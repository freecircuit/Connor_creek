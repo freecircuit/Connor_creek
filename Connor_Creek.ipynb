{
 "cells": [
  {
   "cell_type": "code",
   "execution_count": 1,
   "id": "53079b04-e616-4af5-8be1-d69e9ade6f7e",
   "metadata": {},
   "outputs": [],
   "source": [
    "#notebook purpose: geocode and clean data of two dataframes from \n",
    "#https://www.ezview.wa.gov/site/alias__2006/37852/library.aspx\n",
    "import pathlib\n",
    "import pandas\n",
    "import geopandas\n",
    "import numpy\n",
    "import shapely\n",
    "\n",
    "#initialize project pathways\n",
    "HOME = pathlib.Path().resolve()\n",
    "DATA_DIR = HOME / 'data'\n",
    "DATA_EDIT = HOME / 'project'"
   ]
  },
  {
   "cell_type": "code",
   "execution_count": 37,
   "id": "e7b9bb9d-9218-4d03-8b22-37523590bcb8",
   "metadata": {},
   "outputs": [
    {
     "data": {
      "text/html": [
       "<div>\n",
       "<style scoped>\n",
       "    .dataframe tbody tr th:only-of-type {\n",
       "        vertical-align: middle;\n",
       "    }\n",
       "\n",
       "    .dataframe tbody tr th {\n",
       "        vertical-align: top;\n",
       "    }\n",
       "\n",
       "    .dataframe thead th {\n",
       "        text-align: right;\n",
       "    }\n",
       "</style>\n",
       "<table border=\"1\" class=\"dataframe\">\n",
       "  <thead>\n",
       "    <tr style=\"text-align: right;\">\n",
       "      <th></th>\n",
       "      <th>X</th>\n",
       "      <th>Y</th>\n",
       "      <th>USER_Company_Name</th>\n",
       "      <th>USER_Primary_SIC_Description</th>\n",
       "      <th>USER_Location_Employee_Size_Actual</th>\n",
       "    </tr>\n",
       "  </thead>\n",
       "  <tbody>\n",
       "    <tr>\n",
       "      <th>0</th>\n",
       "      <td>-124.194669</td>\n",
       "      <td>47.194599</td>\n",
       "      <td>Beach Reflections</td>\n",
       "      <td>Hotels &amp; Motels</td>\n",
       "      <td>2</td>\n",
       "    </tr>\n",
       "    <tr>\n",
       "      <th>1</th>\n",
       "      <td>-124.203681</td>\n",
       "      <td>47.216664</td>\n",
       "      <td>Navy Getaways-Pacific Beach</td>\n",
       "      <td>Hotels &amp; Motels</td>\n",
       "      <td>7</td>\n",
       "    </tr>\n",
       "    <tr>\n",
       "      <th>2</th>\n",
       "      <td>-124.203681</td>\n",
       "      <td>47.216664</td>\n",
       "      <td>Windjammer Restaurant &amp; Lounge</td>\n",
       "      <td>Restaurants</td>\n",
       "      <td>20</td>\n",
       "    </tr>\n",
       "    <tr>\n",
       "      <th>3</th>\n",
       "      <td>-124.203681</td>\n",
       "      <td>47.216664</td>\n",
       "      <td>ATM</td>\n",
       "      <td>Atm-Automated Teller Machines</td>\n",
       "      <td>0</td>\n",
       "    </tr>\n",
       "    <tr>\n",
       "      <th>4</th>\n",
       "      <td>-124.201990</td>\n",
       "      <td>47.208878</td>\n",
       "      <td>Pacific Beach Hardware Inc</td>\n",
       "      <td>Hardware-Retail</td>\n",
       "      <td>2</td>\n",
       "    </tr>\n",
       "  </tbody>\n",
       "</table>\n",
       "</div>"
      ],
      "text/plain": [
       "            X          Y               USER_Company_Name  \\\n",
       "0 -124.194669  47.194599               Beach Reflections   \n",
       "1 -124.203681  47.216664     Navy Getaways-Pacific Beach   \n",
       "2 -124.203681  47.216664  Windjammer Restaurant & Lounge   \n",
       "3 -124.203681  47.216664                             ATM   \n",
       "4 -124.201990  47.208878      Pacific Beach Hardware Inc   \n",
       "\n",
       "    USER_Primary_SIC_Description  USER_Location_Employee_Size_Actual  \n",
       "0                Hotels & Motels                                   2  \n",
       "1                Hotels & Motels                                   7  \n",
       "2                    Restaurants                                  20  \n",
       "3  Atm-Automated Teller Machines                                   0  \n",
       "4                Hardware-Retail                                   2  "
      ]
     },
     "execution_count": 37,
     "metadata": {},
     "output_type": "execute_result"
    }
   ],
   "source": [
    "#open all csv files and asign to variables\n",
    "businesses = pandas.read_csv(DATA_DIR / \"geocoded_businesses.csv\", sep=\";\")\n",
    "traffic = pandas.read_csv(DATA_DIR / \"traffic_counts.csv\", sep=\";\")\n",
    "rentals = pandas.read_csv(DATA_DIR / \"rentals.csv\", sep=\";\")\n",
    "businesses = businesses[['X', 'Y', 'USER_Company_Name', 'USER_Primary_SIC_Description', 'USER_Location_Employee_Size_Actual']]\n",
    "businesses.head()"
   ]
  },
  {
   "cell_type": "code",
   "execution_count": 38,
   "id": "3530a635-ae72-45a7-a9a8-944cc3ddc2f1",
   "metadata": {},
   "outputs": [],
   "source": [
    "#assign geometry to geocoded file\n",
    "businesses['geometry'] = businesses.apply(lambda col:\n",
    "                                                shapely.geometry.Point(col['X'], col['Y']),\n",
    "                                                axis=1)\n",
    "#filter for relevent columns and convert to geodataframe\n",
    "geocode_businesses = geopandas.GeoDataFrame(businesses,\n",
    "                                            geometry = businesses['geometry'],\n",
    "                                            crs='WGS84')\n",
    "                                    "
   ]
  },
  {
   "cell_type": "code",
   "execution_count": 39,
   "id": "757e80a2-697c-487a-b866-dd7c0bf5115f",
   "metadata": {},
   "outputs": [
    {
     "data": {
      "text/plain": [
       "<Axes: >"
      ]
     },
     "execution_count": 39,
     "metadata": {},
     "output_type": "execute_result"
    },
    {
     "data": {
      "image/png": "[encoded data removed]",
      "text/plain": [
       "<Figure size 640x480 with 1 Axes>"
      ]
     },
     "metadata": {},
     "output_type": "display_data"
    }
   ],
   "source": [
    "geocode_businesses.plot()"
   ]
  },
  {
   "cell_type": "code",
   "execution_count": null,
   "id": "cbe31e76-502a-4ade-a245-0338361424f8",
   "metadata": {},
   "outputs": [],
   "source": []
  }
 ],
 "metadata": {
  "kernelspec": {
   "display_name": "Python 3.13",
   "language": "python",
   "name": "python3.13"
  },
  "language_info": {
   "codemirror_mode": {
    "name": "ipython",
    "version": 3
   },
   "file_extension": ".py",
   "mimetype": "text/x-python",
   "name": "python",
   "nbconvert_exporter": "python",
   "pygments_lexer": "ipython3",
   "version": "3.13.6"
  }
 },
 "nbformat": 4,
 "nbformat_minor": 5
}
